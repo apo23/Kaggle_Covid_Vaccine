{
 "cells": [
  {
   "cell_type": "code",
   "execution_count": 1,
   "metadata": {},
   "outputs": [],
   "source": [
    "import numpy as np\n",
    "import pandas as pd\n",
    "from tensorflow import keras"
   ]
  },
  {
   "cell_type": "code",
   "execution_count": 2,
   "metadata": {},
   "outputs": [],
   "source": [
    "train = pd.read_json('train.json', lines=True)"
   ]
  },
  {
   "cell_type": "code",
   "execution_count": 3,
   "metadata": {},
   "outputs": [],
   "source": [
    "tmp1 = np.zeros((100,4))\n",
    "tmp2 = np.zeros((100,16))\n",
    "tmp3 = np.zeros((100,7))"
   ]
  },
  {
   "cell_type": "code",
   "execution_count": 4,
   "metadata": {},
   "outputs": [],
   "source": [
    "out1 = np.zeros((100,1))\n",
    "out2 = np.zeros((100,1))\n",
    "out3 = np.zeros((100,1))"
   ]
  },
  {
   "cell_type": "markdown",
   "metadata": {},
   "source": [
    "## Modele Sequentiel"
   ]
  },
  {
   "cell_type": "markdown",
   "metadata": {},
   "source": [
    "Il y a ici un input de dimension 27 pour la sequence (4 colonnes), les appariement (16) et les types de loops (7)"
   ]
  },
  {
   "cell_type": "code",
   "execution_count": 5,
   "metadata": {},
   "outputs": [
    {
     "name": "stdout",
     "output_type": "stream",
     "text": [
      "_________________________________________________________________\n",
      "Layer (type)                 Output Shape              Param #   \n",
      "=================================================================\n",
      "dense (Dense)                (None, 10)                280       \n",
      "_________________________________________________________________\n",
      "dense_1 (Dense)              (None, 8)                 88        \n",
      "_________________________________________________________________\n",
      "dense_2 (Dense)              (None, 4)                 36        \n",
      "_________________________________________________________________\n",
      "dropout (Dropout)            (None, 4)                 0         \n",
      "_________________________________________________________________\n",
      "dense_3 (Dense)              (None, 3)                 15        \n",
      "=================================================================\n",
      "Total params: 419\n",
      "Trainable params: 419\n",
      "Non-trainable params: 0\n",
      "_________________________________________________________________\n"
     ]
    }
   ],
   "source": [
    "model_simple = keras.Sequential()\n",
    "\n",
    "model_simple.add(keras.layers.Dense(10, input_dim=27, activation=('relu')))\n",
    "model_simple.add(keras.layers.Dense(8, activation='relu'))\n",
    "model_simple.add(keras.layers.Dense(4, activation='relu'))\n",
    "model_simple.add(keras.layers.Dropout(rate=0.4))\n",
    "\n",
    "#Est-ce que le out put c'est 3 valuers distinctes, ou 1 valeurs mais qui existe dans 3 channels?\n",
    "model_simple.add(keras.layers.Dense(3, activation='linear'))\n",
    "\n",
    "# mean_squared_error car on a affair a une regression\n",
    "model_simple.compile(loss='mean_squared_error', optimizer='adam', metrics=['mean_squared_error'])\n",
    "model_simple.summary()"
   ]
  },
  {
   "cell_type": "markdown",
   "metadata": {},
   "source": [
    "## Modeles utilisant le 'functional API'"
   ]
  },
  {
   "cell_type": "code",
   "execution_count": 6,
   "metadata": {},
   "outputs": [
    {
     "name": "stdout",
     "output_type": "stream",
     "text": [
      "__________________________________________________________________________________________________\n",
      "Layer (type)                    Output Shape         Param #     Connected to                     \n",
      "==================================================================================================\n",
      "input_1 (InputLayer)            (None, 68, 27)       0                                            \n",
      "__________________________________________________________________________________________________\n",
      "dense_4 (Dense)                 (None, 68, 10)       280         input_1[0][0]                    \n",
      "__________________________________________________________________________________________________\n",
      "dense_5 (Dense)                 (None, 68, 10)       280         input_1[0][0]                    \n",
      "__________________________________________________________________________________________________\n",
      "dense_6 (Dense)                 (None, 68, 3)        33          dense_4[0][0]                    \n",
      "__________________________________________________________________________________________________\n",
      "dense_7 (Dense)                 (None, 68, 3)        33          dense_5[0][0]                    \n",
      "__________________________________________________________________________________________________\n",
      "average (Average)               (None, 68, 3)        0           dense_6[0][0]                    \n",
      "                                                                 dense_7[0][0]                    \n",
      "==================================================================================================\n",
      "Total params: 626\n",
      "Trainable params: 626\n",
      "Non-trainable params: 0\n",
      "__________________________________________________________________________________________________\n"
     ]
    }
   ],
   "source": [
    "\n",
    "inputs = keras.layers.Input(shape=(68,27,)) #Si on considere juste la dimensionalite des entrees,\n",
    "                                            #en considerant les 68 positions et les 27 colonnes\n",
    "dense_1 = keras.layers.Dense(10)(inputs)\n",
    "dense_2 = keras.layers.Dense(10)(inputs)\n",
    "dense_1 = keras.layers.Dense(3)(dense_1)\n",
    "dense_2 = keras.layers.Dense(3)(dense_2)\n",
    "\n",
    "outputs = keras.layers.average([dense_1, dense_2]) #moyenne des 2 couches fournies\n",
    "\n",
    "model = keras.Model(inputs=inputs, outputs=outputs)\n",
    "model.compile(optimizer='adam', loss='mse', metrics=['mse'])\n",
    "model.summary()\n"
   ]
  },
  {
   "cell_type": "code",
   "execution_count": 7,
   "metadata": {
    "scrolled": false
   },
   "outputs": [
    {
     "name": "stdout",
     "output_type": "stream",
     "text": [
      "__________________________________________________________________________________________________\n",
      "Layer (type)                    Output Shape         Param #     Connected to                     \n",
      "==================================================================================================\n",
      "seq (InputLayer)                (None, 4)            0                                            \n",
      "__________________________________________________________________________________________________\n",
      "pair (InputLayer)               (None, 16)           0                                            \n",
      "__________________________________________________________________________________________________\n",
      "loop (InputLayer)               (None, 7)            0                                            \n",
      "__________________________________________________________________________________________________\n",
      "dense_8 (Dense)                 (None, 20)           100         seq[0][0]                        \n",
      "__________________________________________________________________________________________________\n",
      "dense_9 (Dense)                 (None, 20)           340         pair[0][0]                       \n",
      "__________________________________________________________________________________________________\n",
      "dense_10 (Dense)                (None, 20)           160         loop[0][0]                       \n",
      "__________________________________________________________________________________________________\n",
      "concatenate (Concatenate)       (None, 60)           0           dense_8[0][0]                    \n",
      "                                                                 dense_9[0][0]                    \n",
      "                                                                 dense_10[0][0]                   \n",
      "__________________________________________________________________________________________________\n",
      "reactivity (Dense)              (None, 1)            61          concatenate[0][0]                \n",
      "__________________________________________________________________________________________________\n",
      "ph (Dense)                      (None, 1)            61          concatenate[0][0]                \n",
      "__________________________________________________________________________________________________\n",
      "tmp (Dense)                     (None, 1)            61          concatenate[0][0]                \n",
      "==================================================================================================\n",
      "Total params: 783\n",
      "Trainable params: 783\n",
      "Non-trainable params: 0\n",
      "__________________________________________________________________________________________________\n"
     ]
    }
   ],
   "source": [
    "seq_input = keras.layers.Input(shape=(4,), name=\"seq\")      #Input shape a revoir\n",
    "pair_input = keras.layers.Input(shape=(16,), name=\"pair\")  \n",
    "loop_input = keras.layers.Input(shape=(7,), name=\"loop\")  \n",
    "\n",
    "seq_features = keras.layers.Dense(20)(seq_input)\n",
    "pair_features = keras.layers.Dense(20)(pair_input)\n",
    "loop_features = keras.layers.Dense(20)(loop_input)\n",
    "\n",
    "\n",
    "# Merge les features\n",
    "x = keras.layers.concatenate([seq_features, pair_features, loop_features])\n",
    "\n",
    "\n",
    "first_pred = keras.layers.Dense(1, name=\"reactivity\")(x) #regression pour \"reactivity\"\n",
    "second_pred = keras.layers.Dense(1, name=\"ph\")(x)  #regression pour \"ph\"\n",
    "third_pred = keras.layers.Dense(1, name=\"tmp\")(x)\n",
    "\n",
    "\n",
    "model = keras.Model(\n",
    "    inputs=[seq_input, pair_input, loop_input],\n",
    "    outputs=[first_pred, second_pred, third_pred],\n",
    ")\n",
    "model.compile(optimizer='adam', loss='mse', metrics=['mse'])\n",
    "model.summary()"
   ]
  },
  {
   "cell_type": "code",
   "execution_count": 9,
   "metadata": {},
   "outputs": [
    {
     "name": "stdout",
     "output_type": "stream",
     "text": [
      "Train on 90 samples, validate on 10 samples\n",
      "Epoch 1/20\n",
      "90/90 [==============================] - ETA: 0s - loss: 0.0000e+00 - reactivity_loss: 0.0000e+00 - ph_loss: 0.0000e+00 - tmp_loss: 0.0000e+00 - reactivity_mean_squared_error: 0.0000e+00 - ph_mean_squared_error: 0.0000e+00 - tmp_mean_squared_error: 0.0000e+00 - 4s 46ms/step - loss: 0.0000e+00 - reactivity_loss: 0.0000e+00 - ph_loss: 0.0000e+00 - tmp_loss: 0.0000e+00 - reactivity_mean_squared_error: 0.0000e+00 - ph_mean_squared_error: 0.0000e+00 - tmp_mean_squared_error: 0.0000e+00 - val_loss: 0.0000e+00 - val_reactivity_loss: 0.0000e+00 - val_ph_loss: 0.0000e+00 - val_tmp_loss: 0.0000e+00 - val_reactivity_mean_squared_error: 0.0000e+00 - val_ph_mean_squared_error: 0.0000e+00 - val_tmp_mean_squared_error: 0.0000e+00\n",
      "Epoch 2/20\n",
      "90/90 [==============================] - 0s 444us/step - loss: 0.0000e+00 - reactivity_loss: 0.0000e+00 - ph_loss: 0.0000e+00 - tmp_loss: 0.0000e+00 - reactivity_mean_squared_error: 0.0000e+00 - ph_mean_squared_error: 0.0000e+00 - tmp_mean_squared_error: 0.0000e+00 - val_loss: 0.0000e+00 - val_reactivity_loss: 0.0000e+00 - val_ph_loss: 0.0000e+00 - val_tmp_loss: 0.0000e+00 - val_reactivity_mean_squared_error: 0.0000e+00 - val_ph_mean_squared_error: 0.0000e+00 - val_tmp_mean_squared_error: 0.0000e+00\n",
      "Epoch 3/20\n",
      "90/90 [==============================] - 0s 333us/step - loss: 0.0000e+00 - reactivity_loss: 0.0000e+00 - ph_loss: 0.0000e+00 - tmp_loss: 0.0000e+00 - reactivity_mean_squared_error: 0.0000e+00 - ph_mean_squared_error: 0.0000e+00 - tmp_mean_squared_error: 0.0000e+00 - val_loss: 0.0000e+00 - val_reactivity_loss: 0.0000e+00 - val_ph_loss: 0.0000e+00 - val_tmp_loss: 0.0000e+00 - val_reactivity_mean_squared_error: 0.0000e+00 - val_ph_mean_squared_error: 0.0000e+00 - val_tmp_mean_squared_error: 0.0000e+00\n",
      "Epoch 4/20\n",
      "90/90 [==============================] - 0s 444us/step - loss: 0.0000e+00 - reactivity_loss: 0.0000e+00 - ph_loss: 0.0000e+00 - tmp_loss: 0.0000e+00 - reactivity_mean_squared_error: 0.0000e+00 - ph_mean_squared_error: 0.0000e+00 - tmp_mean_squared_error: 0.0000e+00 - val_loss: 0.0000e+00 - val_reactivity_loss: 0.0000e+00 - val_ph_loss: 0.0000e+00 - val_tmp_loss: 0.0000e+00 - val_reactivity_mean_squared_error: 0.0000e+00 - val_ph_mean_squared_error: 0.0000e+00 - val_tmp_mean_squared_error: 0.0000e+00\n",
      "Epoch 5/20\n",
      "90/90 [==============================] - 0s 444us/step - loss: 0.0000e+00 - reactivity_loss: 0.0000e+00 - ph_loss: 0.0000e+00 - tmp_loss: 0.0000e+00 - reactivity_mean_squared_error: 0.0000e+00 - ph_mean_squared_error: 0.0000e+00 - tmp_mean_squared_error: 0.0000e+00 - val_loss: 0.0000e+00 - val_reactivity_loss: 0.0000e+00 - val_ph_loss: 0.0000e+00 - val_tmp_loss: 0.0000e+00 - val_reactivity_mean_squared_error: 0.0000e+00 - val_ph_mean_squared_error: 0.0000e+00 - val_tmp_mean_squared_error: 0.0000e+00\n",
      "Epoch 6/20\n",
      "90/90 [==============================] - 0s 333us/step - loss: 0.0000e+00 - reactivity_loss: 0.0000e+00 - ph_loss: 0.0000e+00 - tmp_loss: 0.0000e+00 - reactivity_mean_squared_error: 0.0000e+00 - ph_mean_squared_error: 0.0000e+00 - tmp_mean_squared_error: 0.0000e+00 - val_loss: 0.0000e+00 - val_reactivity_loss: 0.0000e+00 - val_ph_loss: 0.0000e+00 - val_tmp_loss: 0.0000e+00 - val_reactivity_mean_squared_error: 0.0000e+00 - val_ph_mean_squared_error: 0.0000e+00 - val_tmp_mean_squared_error: 0.0000e+00\n",
      "Epoch 7/20\n",
      "90/90 [==============================] - 0s 444us/step - loss: 0.0000e+00 - reactivity_loss: 0.0000e+00 - ph_loss: 0.0000e+00 - tmp_loss: 0.0000e+00 - reactivity_mean_squared_error: 0.0000e+00 - ph_mean_squared_error: 0.0000e+00 - tmp_mean_squared_error: 0.0000e+00 - val_loss: 0.0000e+00 - val_reactivity_loss: 0.0000e+00 - val_ph_loss: 0.0000e+00 - val_tmp_loss: 0.0000e+00 - val_reactivity_mean_squared_error: 0.0000e+00 - val_ph_mean_squared_error: 0.0000e+00 - val_tmp_mean_squared_error: 0.0000e+00\n",
      "Epoch 8/20\n",
      "90/90 [==============================] - 0s 333us/step - loss: 0.0000e+00 - reactivity_loss: 0.0000e+00 - ph_loss: 0.0000e+00 - tmp_loss: 0.0000e+00 - reactivity_mean_squared_error: 0.0000e+00 - ph_mean_squared_error: 0.0000e+00 - tmp_mean_squared_error: 0.0000e+00 - val_loss: 0.0000e+00 - val_reactivity_loss: 0.0000e+00 - val_ph_loss: 0.0000e+00 - val_tmp_loss: 0.0000e+00 - val_reactivity_mean_squared_error: 0.0000e+00 - val_ph_mean_squared_error: 0.0000e+00 - val_tmp_mean_squared_error: 0.0000e+00\n",
      "Epoch 9/20\n",
      "90/90 [==============================] - 0s 333us/step - loss: 0.0000e+00 - reactivity_loss: 0.0000e+00 - ph_loss: 0.0000e+00 - tmp_loss: 0.0000e+00 - reactivity_mean_squared_error: 0.0000e+00 - ph_mean_squared_error: 0.0000e+00 - tmp_mean_squared_error: 0.0000e+00 - val_loss: 0.0000e+00 - val_reactivity_loss: 0.0000e+00 - val_ph_loss: 0.0000e+00 - val_tmp_loss: 0.0000e+00 - val_reactivity_mean_squared_error: 0.0000e+00 - val_ph_mean_squared_error: 0.0000e+00 - val_tmp_mean_squared_error: 0.0000e+00\n",
      "Epoch 10/20\n",
      "90/90 [==============================] - 0s 444us/step - loss: 0.0000e+00 - reactivity_loss: 0.0000e+00 - ph_loss: 0.0000e+00 - tmp_loss: 0.0000e+00 - reactivity_mean_squared_error: 0.0000e+00 - ph_mean_squared_error: 0.0000e+00 - tmp_mean_squared_error: 0.0000e+00 - val_loss: 0.0000e+00 - val_reactivity_loss: 0.0000e+00 - val_ph_loss: 0.0000e+00 - val_tmp_loss: 0.0000e+00 - val_reactivity_mean_squared_error: 0.0000e+00 - val_ph_mean_squared_error: 0.0000e+00 - val_tmp_mean_squared_error: 0.0000e+00\n",
      "Epoch 11/20\n",
      "90/90 [==============================] - 0s 444us/step - loss: 0.0000e+00 - reactivity_loss: 0.0000e+00 - ph_loss: 0.0000e+00 - tmp_loss: 0.0000e+00 - reactivity_mean_squared_error: 0.0000e+00 - ph_mean_squared_error: 0.0000e+00 - tmp_mean_squared_error: 0.0000e+00 - val_loss: 0.0000e+00 - val_reactivity_loss: 0.0000e+00 - val_ph_loss: 0.0000e+00 - val_tmp_loss: 0.0000e+00 - val_reactivity_mean_squared_error: 0.0000e+00 - val_ph_mean_squared_error: 0.0000e+00 - val_tmp_mean_squared_error: 0.0000e+00\n",
      "Epoch 12/20\n",
      "90/90 [==============================] - 0s 333us/step - loss: 0.0000e+00 - reactivity_loss: 0.0000e+00 - ph_loss: 0.0000e+00 - tmp_loss: 0.0000e+00 - reactivity_mean_squared_error: 0.0000e+00 - ph_mean_squared_error: 0.0000e+00 - tmp_mean_squared_error: 0.0000e+00 - val_loss: 0.0000e+00 - val_reactivity_loss: 0.0000e+00 - val_ph_loss: 0.0000e+00 - val_tmp_loss: 0.0000e+00 - val_reactivity_mean_squared_error: 0.0000e+00 - val_ph_mean_squared_error: 0.0000e+00 - val_tmp_mean_squared_error: 0.0000e+00\n",
      "Epoch 13/20\n",
      "90/90 [==============================] - 0s 333us/step - loss: 0.0000e+00 - reactivity_loss: 0.0000e+00 - ph_loss: 0.0000e+00 - tmp_loss: 0.0000e+00 - reactivity_mean_squared_error: 0.0000e+00 - ph_mean_squared_error: 0.0000e+00 - tmp_mean_squared_error: 0.0000e+00 - val_loss: 0.0000e+00 - val_reactivity_loss: 0.0000e+00 - val_ph_loss: 0.0000e+00 - val_tmp_loss: 0.0000e+00 - val_reactivity_mean_squared_error: 0.0000e+00 - val_ph_mean_squared_error: 0.0000e+00 - val_tmp_mean_squared_error: 0.0000e+00\n",
      "Epoch 14/20\n",
      "90/90 [==============================] - 0s 444us/step - loss: 0.0000e+00 - reactivity_loss: 0.0000e+00 - ph_loss: 0.0000e+00 - tmp_loss: 0.0000e+00 - reactivity_mean_squared_error: 0.0000e+00 - ph_mean_squared_error: 0.0000e+00 - tmp_mean_squared_error: 0.0000e+00 - val_loss: 0.0000e+00 - val_reactivity_loss: 0.0000e+00 - val_ph_loss: 0.0000e+00 - val_tmp_loss: 0.0000e+00 - val_reactivity_mean_squared_error: 0.0000e+00 - val_ph_mean_squared_error: 0.0000e+00 - val_tmp_mean_squared_error: 0.0000e+00\n",
      "Epoch 15/20\n",
      "90/90 [==============================] - 0s 333us/step - loss: 0.0000e+00 - reactivity_loss: 0.0000e+00 - ph_loss: 0.0000e+00 - tmp_loss: 0.0000e+00 - reactivity_mean_squared_error: 0.0000e+00 - ph_mean_squared_error: 0.0000e+00 - tmp_mean_squared_error: 0.0000e+00 - val_loss: 0.0000e+00 - val_reactivity_loss: 0.0000e+00 - val_ph_loss: 0.0000e+00 - val_tmp_loss: 0.0000e+00 - val_reactivity_mean_squared_error: 0.0000e+00 - val_ph_mean_squared_error: 0.0000e+00 - val_tmp_mean_squared_error: 0.0000e+00\n",
      "Epoch 16/20\n"
     ]
    },
    {
     "name": "stdout",
     "output_type": "stream",
     "text": [
      "90/90 [==============================] - 0s 333us/step - loss: 0.0000e+00 - reactivity_loss: 0.0000e+00 - ph_loss: 0.0000e+00 - tmp_loss: 0.0000e+00 - reactivity_mean_squared_error: 0.0000e+00 - ph_mean_squared_error: 0.0000e+00 - tmp_mean_squared_error: 0.0000e+00 - val_loss: 0.0000e+00 - val_reactivity_loss: 0.0000e+00 - val_ph_loss: 0.0000e+00 - val_tmp_loss: 0.0000e+00 - val_reactivity_mean_squared_error: 0.0000e+00 - val_ph_mean_squared_error: 0.0000e+00 - val_tmp_mean_squared_error: 0.0000e+00\n",
      "Epoch 17/20\n",
      "90/90 [==============================] - 0s 444us/step - loss: 0.0000e+00 - reactivity_loss: 0.0000e+00 - ph_loss: 0.0000e+00 - tmp_loss: 0.0000e+00 - reactivity_mean_squared_error: 0.0000e+00 - ph_mean_squared_error: 0.0000e+00 - tmp_mean_squared_error: 0.0000e+00 - val_loss: 0.0000e+00 - val_reactivity_loss: 0.0000e+00 - val_ph_loss: 0.0000e+00 - val_tmp_loss: 0.0000e+00 - val_reactivity_mean_squared_error: 0.0000e+00 - val_ph_mean_squared_error: 0.0000e+00 - val_tmp_mean_squared_error: 0.0000e+00\n",
      "Epoch 18/20\n",
      "90/90 [==============================] - 0s 333us/step - loss: 0.0000e+00 - reactivity_loss: 0.0000e+00 - ph_loss: 0.0000e+00 - tmp_loss: 0.0000e+00 - reactivity_mean_squared_error: 0.0000e+00 - ph_mean_squared_error: 0.0000e+00 - tmp_mean_squared_error: 0.0000e+00 - val_loss: 0.0000e+00 - val_reactivity_loss: 0.0000e+00 - val_ph_loss: 0.0000e+00 - val_tmp_loss: 0.0000e+00 - val_reactivity_mean_squared_error: 0.0000e+00 - val_ph_mean_squared_error: 0.0000e+00 - val_tmp_mean_squared_error: 0.0000e+00\n",
      "Epoch 19/20\n",
      "90/90 [==============================] - 0s 333us/step - loss: 0.0000e+00 - reactivity_loss: 0.0000e+00 - ph_loss: 0.0000e+00 - tmp_loss: 0.0000e+00 - reactivity_mean_squared_error: 0.0000e+00 - ph_mean_squared_error: 0.0000e+00 - tmp_mean_squared_error: 0.0000e+00 - val_loss: 0.0000e+00 - val_reactivity_loss: 0.0000e+00 - val_ph_loss: 0.0000e+00 - val_tmp_loss: 0.0000e+00 - val_reactivity_mean_squared_error: 0.0000e+00 - val_ph_mean_squared_error: 0.0000e+00 - val_tmp_mean_squared_error: 0.0000e+00\n",
      "Epoch 20/20\n",
      "90/90 [==============================] - 0s 333us/step - loss: 0.0000e+00 - reactivity_loss: 0.0000e+00 - ph_loss: 0.0000e+00 - tmp_loss: 0.0000e+00 - reactivity_mean_squared_error: 0.0000e+00 - ph_mean_squared_error: 0.0000e+00 - tmp_mean_squared_error: 0.0000e+00 - val_loss: 0.0000e+00 - val_reactivity_loss: 0.0000e+00 - val_ph_loss: 0.0000e+00 - val_tmp_loss: 0.0000e+00 - val_reactivity_mean_squared_error: 0.0000e+00 - val_ph_mean_squared_error: 0.0000e+00 - val_tmp_mean_squared_error: 0.0000e+00\n"
     ]
    },
    {
     "data": {
      "text/plain": [
       "<tensorflow.python.keras.callbacks.History at 0x1115aa90>"
      ]
     },
     "execution_count": 9,
     "metadata": {},
     "output_type": "execute_result"
    }
   ],
   "source": [
    "model.fit([tmp1,tmp2,tmp3],[out1,out2,out3],epochs=20,batch_size=10,validation_split=0.1)"
   ]
  },
  {
   "cell_type": "markdown",
   "metadata": {},
   "source": [
    "## Modele avec recurrence simple"
   ]
  },
  {
   "cell_type": "code",
   "execution_count": null,
   "metadata": {},
   "outputs": [],
   "source": []
  }
 ],
 "metadata": {
  "kernelspec": {
   "display_name": "Python 3",
   "language": "python",
   "name": "python3"
  },
  "language_info": {
   "codemirror_mode": {
    "name": "ipython",
    "version": 3
   },
   "file_extension": ".py",
   "mimetype": "text/x-python",
   "name": "python",
   "nbconvert_exporter": "python",
   "pygments_lexer": "ipython3",
   "version": "3.5.6"
  }
 },
 "nbformat": 4,
 "nbformat_minor": 4
}
